{
 "cells": [
  {
   "cell_type": "code",
   "execution_count": 5,
   "metadata": {
    "scrolled": true
   },
   "outputs": [
    {
     "name": "stdout",
     "output_type": "stream",
     "text": [
      "Precision   : 0.7975\r\n",
      "Recall      : 0.6126\r\n",
      "F_1.0       : 0.6929\r\n"
     ]
    }
   ],
   "source": [
    "! python2 m2scorer.py translated_sentences_2.txt QALB_test2014.m2 "
   ]
  },
  {
   "cell_type": "code",
   "execution_count": 3,
   "metadata": {
    "scrolled": true
   },
   "outputs": [
    {
     "name": "stdout",
     "output_type": "stream",
     "text": [
      "Precision   : 0.7850\r\n",
      "Recall      : 0.6059\r\n",
      "F_1.0       : 0.6839\r\n"
     ]
    }
   ],
   "source": [
    "! python2 m2scorer.py translated_sentences_4.txt QALB_test2014.m2 "
   ]
  },
  {
   "cell_type": "code",
   "execution_count": 6,
   "metadata": {},
   "outputs": [
    {
     "name": "stdout",
     "output_type": "stream",
     "text": [
      "Precision   : 0.7847\r\n",
      "Recall      : 0.6059\r\n",
      "F_1.0       : 0.6838\r\n"
     ]
    }
   ],
   "source": [
    "! python2 m2scorer.py translated_sentences_4.txt QALB_test2014.m2 "
   ]
  },
  {
   "cell_type": "markdown",
   "metadata": {},
   "source": [
    "# l2R"
   ]
  },
  {
   "cell_type": "code",
   "execution_count": 2,
   "metadata": {},
   "outputs": [
    {
     "name": "stdout",
     "output_type": "stream",
     "text": [
      "Precision   : 0.7908\r\n",
      "Recall      : 0.6174\r\n",
      "F_1.0       : 0.6934\r\n"
     ]
    }
   ],
   "source": [
    "! python2 m2scorer.py test3.txt QALB_test2014.m2"
   ]
  },
  {
   "cell_type": "code",
   "execution_count": 1,
   "metadata": {},
   "outputs": [
    {
     "name": "stdout",
     "output_type": "stream",
     "text": [
      "Precision   : 0.8015\r\n",
      "Recall      : 0.5827\r\n",
      "F_1.0       : 0.6748\r\n"
     ]
    }
   ],
   "source": [
    "! python2 m2scorer.py test4.txt QALB_test2014.m2"
   ]
  },
  {
   "cell_type": "raw",
   "metadata": {},
   "source": [
    "! python2 m2scorer.py test2.txt QALB_test2014.m2\n",
    "\n",
    "Precision   : 0.7956\n",
    "Recall      : 0.5809\n",
    "F_1.0       : 0.6715"
   ]
  }
 ],
 "metadata": {
  "kernelspec": {
   "display_name": "Python 3",
   "language": "python",
   "name": "python3"
  },
  "language_info": {
   "codemirror_mode": {
    "name": "ipython",
    "version": 3
   },
   "file_extension": ".py",
   "mimetype": "text/x-python",
   "name": "python",
   "nbconvert_exporter": "python",
   "pygments_lexer": "ipython3",
   "version": "3.6.10"
  }
 },
 "nbformat": 4,
 "nbformat_minor": 2
}
