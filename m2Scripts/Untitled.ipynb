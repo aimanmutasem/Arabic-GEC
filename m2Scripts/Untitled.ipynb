{
 "cells": [
  {
   "cell_type": "code",
   "execution_count": 30,
   "metadata": {
    "scrolled": false
   },
   "outputs": [
    {
     "name": "stdout",
     "output_type": "stream",
     "text": [
      "\u001b[1m\u001b[37mta                 \u001b[m  Tue Jun 29 21:35:13 2021  \u001b[1m\u001b[30m440.95.01\u001b[m\r\n",
      "\u001b[36m[0]\u001b[m \u001b[34mTITAN RTX       \u001b[m |\u001b[31m 49'C\u001b[m, \u001b[1m\u001b[32m 67 %\u001b[m | \u001b[36m\u001b[1m\u001b[33m10485\u001b[m / \u001b[33m24220\u001b[m MB | \u001b[1m\u001b[30maiman\u001b[m(\u001b[33m1689M\u001b[m) \u001b[1m\u001b[30mta\u001b[m(\u001b[33m8785M\u001b[m)\r\n",
      "\u001b[36m[1]\u001b[m \u001b[34mTITAN RTX       \u001b[m |\u001b[31m 27'C\u001b[m, \u001b[32m  0 %\u001b[m | \u001b[36m\u001b[1m\u001b[33m   11\u001b[m / \u001b[33m24219\u001b[m MB |\r\n"
     ]
    }
   ],
   "source": [
    "! gpustat -u"
   ]
  },
  {
   "cell_type": "markdown",
   "metadata": {},
   "source": [
    "# LTR"
   ]
  },
  {
   "cell_type": "code",
   "execution_count": 1,
   "metadata": {},
   "outputs": [
    {
     "name": "stdout",
     "output_type": "stream",
     "text": [
      "Precision   : 0.6858\r\n",
      "Recall      : 0.6163\r\n",
      "F_1.0       : 0.6492\r\n"
     ]
    }
   ],
   "source": [
    "! python2 m2scorer.py QALB2014_OUT_MADAMIRA.txt QALB_test2014.m2"
   ]
  },
  {
   "cell_type": "code",
   "execution_count": 2,
   "metadata": {
    "scrolled": true
   },
   "outputs": [
    {
     "name": "stdout",
     "output_type": "stream",
     "text": [
      "Precision   : 0.7804\r\n",
      "Recall      : 0.6708\r\n",
      "F_1.0       : 0.7215\r\n"
     ]
    }
   ],
   "source": [
    "! python2 m2scorer.py test_R2L_2014.txt QALB_test2014.m2"
   ]
  },
  {
   "cell_type": "code",
   "execution_count": 11,
   "metadata": {
    "scrolled": true
   },
   "outputs": [
    {
     "name": "stdout",
     "output_type": "stream",
     "text": [
      "Precision   : 0.7621\r\n",
      "Recall      : 0.6662\r\n",
      "F_1.0       : 0.7109\r\n"
     ]
    }
   ],
   "source": [
    "! python2 m2scorer.py test1.txt QALB_test2014.m2"
   ]
  },
  {
   "cell_type": "code",
   "execution_count": 13,
   "metadata": {},
   "outputs": [
    {
     "name": "stdout",
     "output_type": "stream",
     "text": [
      "Precision   : 0.7606\r\n",
      "Recall      : 0.6667\r\n",
      "F_1.0       : 0.7105\r\n"
     ]
    }
   ],
   "source": [
    "! python2 m2scorer.py test2.txt QALB_test2014.m2"
   ]
  },
  {
   "cell_type": "code",
   "execution_count": 19,
   "metadata": {},
   "outputs": [
    {
     "name": "stdout",
     "output_type": "stream",
     "text": [
      "Precision   : 0.7801\r\n",
      "Recall      : 0.6308\r\n",
      "F_1.0       : 0.6976\r\n"
     ]
    }
   ],
   "source": [
    "! python2 m2scorer.py translated_sentences_1.txt QALB_test2014.m2 "
   ]
  },
  {
   "cell_type": "code",
   "execution_count": 18,
   "metadata": {
    "scrolled": true
   },
   "outputs": [
    {
     "name": "stdout",
     "output_type": "stream",
     "text": [
      "Precision   : 0.7717\r\n",
      "Recall      : 0.6404\r\n",
      "F_1.0       : 0.6999\r\n"
     ]
    }
   ],
   "source": [
    "! python2 m2scorer.py translated_sentences_3.txt QALB_test2014.m2 "
   ]
  },
  {
   "cell_type": "markdown",
   "metadata": {},
   "source": [
    "# Left to right museam "
   ]
  },
  {
   "cell_type": "code",
   "execution_count": 1,
   "metadata": {
    "scrolled": true
   },
   "outputs": [
    {
     "name": "stdout",
     "output_type": "stream",
     "text": [
      "Precision   : 0.7728\r\n",
      "Recall      : 0.6512\r\n",
      "F_1.0       : 0.7068\r\n"
     ]
    }
   ],
   "source": [
    "! python2 m2scorer.py top_output2.txt QALB_test2014.m2  "
   ]
  },
  {
   "cell_type": "raw",
   "metadata": {},
   "source": [
    "Precision   : 0.7681\n",
    "Recall      : 0.6702\n",
    "F_1.0       : 0.7158"
   ]
  },
  {
   "cell_type": "code",
   "execution_count": 2,
   "metadata": {},
   "outputs": [
    {
     "name": "stdout",
     "output_type": "stream",
     "text": [
      "Precision   : 0.7871\r\n",
      "Recall      : 0.6418\r\n",
      "F_1.0       : 0.7070\r\n"
     ]
    }
   ],
   "source": [
    "! python2 m2scorer.py top_output3.txt QALB_test2014.m2  "
   ]
  },
  {
   "cell_type": "raw",
   "metadata": {},
   "source": [
    "Precision   : 0.7556\n",
    "Recall      : 0.6600\n",
    "F_1.0       : 0.7046"
   ]
  },
  {
   "cell_type": "code",
   "execution_count": 3,
   "metadata": {},
   "outputs": [
    {
     "name": "stdout",
     "output_type": "stream",
     "text": [
      "Precision   : 0.7743\r\n",
      "Recall      : 0.6500\r\n",
      "F_1.0       : 0.7067\r\n"
     ]
    }
   ],
   "source": [
    "! python2 m2scorer.py top_output4.txt QALB_test2014.m2  "
   ]
  },
  {
   "cell_type": "raw",
   "metadata": {},
   "source": [
    "Precision   : 0.7666\n",
    "Recall      : 0.6756\n",
    "F_1.0       : 0.7182"
   ]
  },
  {
   "cell_type": "markdown",
   "metadata": {},
   "source": [
    "# Top RTL"
   ]
  },
  {
   "cell_type": "raw",
   "metadata": {},
   "source": [
    "Precision   : 0.7906\n",
    "Recall      : 0.6579\n",
    "F_1.0       : 0.7182"
   ]
  },
  {
   "cell_type": "code",
   "execution_count": null,
   "metadata": {},
   "outputs": [],
   "source": [
    "Out put one: \n",
    "Precision   : 0.7698\n",
    "Recall      : 0.6432\n",
    "F_1.0       : 0.7009\n",
    "    \n",
    "Precision   : 0.7860\n",
    "Recall      : 0.6239\n",
    "F_1.0       : 0.6956\n",
    "    \n"
   ]
  },
  {
   "cell_type": "code",
   "execution_count": null,
   "metadata": {},
   "outputs": [],
   "source": []
  },
  {
   "cell_type": "raw",
   "metadata": {},
   "source": [
    "Precision   : 0.7804\n",
    "Recall      : 0.6708\n",
    "F_1.0       : 0.7215\n",
    "\n",
    "Precision   : 0.7913\n",
    "Recall      : 0.6559\n",
    "F_1.0       : 0.7173\n",
    "\n",
    "Precision   : 0.7914\n",
    "Recall      : 0.6550\n",
    "F_1.0       : 0.7168"
   ]
  },
  {
   "cell_type": "raw",
   "metadata": {},
   "source": [
    "------------------------------------------------ 2014\n",
    "LTR Model\n",
    "Precision   : 0.78.39\n",
    "Recall      : 0.61.78\n",
    "F_1.0       : 0.69.10\n",
    "\n",
    "RTL Model\n",
    "Precision   : 0.78.11\n",
    "Recall      : 0.62.91\n",
    "F_1.0       : 0.69.69\n",
    "\n",
    "RTL AND LTR\n",
    "Precision   : 0.76.84\n",
    "Recall      : 0.66.19\n",
    "F_1.0       : 0.71.11\n",
    "\n",
    "R2L First and then L2R model\n",
    "-----------------------------------------------------\n",
    "\n",
    "------------------------------------------------ 2015\n",
    "LTR Model\n",
    "Precision   : 0.7950\n",
    "Recall      : 0.6540\n",
    "F_1.0       : 0.7176\n",
    "\n",
    "RTL Model\n",
    "Precision   : 0.7657\n",
    "Recall      : 0.6613\n",
    "F_1.0       : 0.7097\n",
    "\n",
    "Precision   : 0.7629\n",
    "Recall      : 0.7020\n",
    "F_1.0       : 0.7312\n",
    "\n",
    "L2R First and then R2L model\n",
    "------------------------------------------------------"
   ]
  }
 ],
 "metadata": {
  "kernelspec": {
   "display_name": "Python 3",
   "language": "python",
   "name": "python3"
  },
  "language_info": {
   "codemirror_mode": {
    "name": "ipython",
    "version": 3
   },
   "file_extension": ".py",
   "mimetype": "text/x-python",
   "name": "python",
   "nbconvert_exporter": "python",
   "pygments_lexer": "ipython3",
   "version": "3.6.10"
  }
 },
 "nbformat": 4,
 "nbformat_minor": 2
}
